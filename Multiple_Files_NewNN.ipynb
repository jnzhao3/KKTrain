{
 "cells": [
  {
   "cell_type": "markdown",
   "id": "bb74a62f-a4a9-4e61-9415-58c8a06f5f75",
   "metadata": {},
   "source": [
    "# Hit classification"
   ]
  },
  {
   "cell_type": "markdown",
   "id": "8d61cb5d-7c43-4a94-9e3c-eb2889e69b88",
   "metadata": {},
   "source": [
    "In this notebook we will try to use Keras and XGBoost in order to distinguish between _true_ conversion electron hits and _fake_ conversion electron hits."
   ]
  },
  {
   "cell_type": "code",
   "execution_count": 1,
   "id": "52ce5426-86e5-4f6e-a7d5-a847d6e2ce97",
   "metadata": {},
   "outputs": [
    {
     "name": "stderr",
     "output_type": "stream",
     "text": [
      "2022-12-07 15:00:39.700509: I tensorflow/core/platform/cpu_feature_guard.cc:193] This TensorFlow binary is optimized with oneAPI Deep Neural Network Library (oneDNN) to use the following CPU instructions in performance-critical operations:  SSE4.1 SSE4.2\n",
      "To enable them in other operations, rebuild TensorFlow with the appropriate compiler flags.\n"
     ]
    }
   ],
   "source": [
    "import uproot \n",
    "import awkward as ak\n",
    "import numpy as np\n",
    "import matplotlib.pyplot as plt\n",
    "import xgboost\n",
    "from tensorflow.keras.callbacks import EarlyStopping\n",
    "from tensorflow.keras.models import Sequential, Model\n",
    "from tensorflow.keras.layers import Dense, Dropout\n",
    "from tensorflow.keras.optimizers import Adam\n",
    "from sklearn.model_selection import train_test_split\n",
    "from sklearn.metrics import roc_curve, roc_auc_score\n",
    "from xgboost import XGBClassifier"
   ]
  },
  {
   "cell_type": "markdown",
   "id": "13b18db5-7d46-40ed-9a1b-528d48256097",
   "metadata": {},
   "source": [
    "First of all we use [uproot](https://uproot.readthedocs.io/en/latest/), a library to reading ROOT files in pure Python and NumPy, to open the `trkana` tree in the `TAKK` folder of the `KKSM01.root` file. We only need certain branches, so we apply a filter to read only `de`, `detsh`, `detshmc`, and `demc`. We then apply a mask to our tree to select only good fits. "
   ]
  },
  {
   "cell_type": "code",
   "execution_count": 2,
   "id": "90450e58-8bce-4fae-be27-97d62d89be18",
   "metadata": {},
   "outputs": [],
   "source": [
    "files = [\"nts.brownd.KKSeed.KKSM.001210_00000005.root\", \"nts.brownd.KKSeed.KKSM.001210_00000008.root\", \"nts.brownd.KKSeed.KKSM.001210_00000011.root\", \"nts.brownd.KKSeed.KKSM.001210_00000059.root\"]\n",
    "\n"
   ]
  },
  {
   "cell_type": "markdown",
   "id": "81afa96c-4517-4bca-95c5-53ef01a36dc8",
   "metadata": {},
   "source": [
    "Then, we select the first 10000 events in the tree and concatenate the lists of the hit variables in a single, large array. These 5 arrays are then stacked in a single bi-dimensional array with `np.vstack`, which will be our input dataset used for the training of the machine learning algorithms."
   ]
  },
  {
   "cell_type": "code",
   "execution_count": 3,
   "id": "027aa165",
   "metadata": {},
   "outputs": [],
   "source": [
    "with uproot.open(\"nts.brownd.KKSeed.KKSM.001210_00000005.root\") as file:\n",
    "    trkana3 = file[\"TAKK\"][\"trkana\"].arrays(filter_name=\"/de|detsh|detshmc|demc/i\")\n",
    "    trkana3 = trkana3[(trkana3['de.goodfit']==1)&(trkana3['de.status']>0)&(trkana3['demc.proc']==167)]\n",
    " "
   ]
  },
  {
   "cell_type": "code",
   "execution_count": 4,
   "id": "1651921b",
   "metadata": {},
   "outputs": [],
   "source": [
    "with uproot.open(\"nts.brownd.KKSeed.KKSM.001210_00000008.root\") as file:\n",
    "    trkana4 = file[\"TAKK\"][\"trkana\"].arrays(filter_name=\"/de|detsh|detshmc|demc/i\")\n",
    "    trkana4 = trkana4[(trkana4['de.goodfit']==1)&(trkana4['de.status']>0)&(trkana4['demc.proc']==167)]\n"
   ]
  },
  {
   "cell_type": "code",
   "execution_count": 5,
   "id": "dc588279",
   "metadata": {
    "scrolled": true
   },
   "outputs": [
    {
     "name": "stdout",
     "output_type": "stream",
     "text": [
      "Processing: nts.brownd.KKSeed.KKSM.001210_00000005.root\n",
      "Processing: nts.brownd.KKSeed.KKSM.001210_00000008.root\n",
      "Processing: nts.brownd.KKSeed.KKSM.001210_00000011.root\n",
      "Processing: nts.brownd.KKSeed.KKSM.001210_00000059.root\n"
     ]
    }
   ],
   "source": [
    "\n",
    "input_dataset = np.empty\n",
    "temp = np.empty\n",
    "mcrel = []\n",
    "n_events = 100000\n",
    "\n",
    "for filename in files:\n",
    "    with uproot.open(filename) as file:\n",
    "        trkana = file[\"TAKK\"][\"trkana\"].arrays(filter_name=\"/de|detsh|detshmc|demc/i\")\n",
    "        trkana = trkana[(trkana['de.goodfit']==1)&(trkana['de.status']>0)&(trkana['demc.proc']==167)]\n",
    "        \n",
    "    print(\"Processing: \" + filename)    \n",
    "    udt = np.add(ak.concatenate(trkana['detsh.udt'][:n_events]).to_numpy(), ak.concatenate(trkana['detsh.udt'][:n_events]).to_numpy())  \n",
    "    udoca = ak.concatenate(trkana['detsh.udoca'][:n_events]).to_numpy()\n",
    "    tottdrift = ak.concatenate(trkana['detsh.tottdrift'][:n_events]).to_numpy()\n",
    "    rdrift = ak.concatenate(trkana['detsh.rdrift'][:n_events]).to_numpy()\n",
    "    edep = ak.concatenate(trkana['detsh.edep'][:n_events]).to_numpy()\n",
    "    udocavar = ak.concatenate(trkana['detsh.udocavar'][:n_events]).to_numpy()\n",
    "    wdist = ak.concatenate(trkana['detsh.wdist'][:n_events]).to_numpy()\n",
    "    uupos = ak.concatenate(trkana['detsh.uupos'][:n_events]).to_numpy()\n",
    "    rho = np.square(ak.concatenate(trkana['detsh.poca.fCoordinates.fX'][:n_events]).to_numpy())\n",
    "    rho = np.add(rho,np.square(ak.concatenate(trkana['detsh.poca.fCoordinates.fY'][:n_events]).to_numpy()))\n",
    "    rho = np.sqrt(rho)\n",
    "    \n",
    "    temp = np.vstack((udt,udoca,tottdrift,rdrift,edep, udocavar, wdist, uupos, rho)).T\n",
    "    if input_dataset is np.empty:\n",
    "        input_dataset = temp\n",
    "    else:\n",
    "        input_dataset = np.concatenate((input_dataset, temp))\n",
    "        \n",
    "    for i, this_dt in enumerate(trkana['detsh.udt'][:n_events]):\n",
    "        mcrel.extend(trkana['detshmc.rel._rel'][i][:len(this_dt)])\n",
    "\n"
   ]
  },
  {
   "cell_type": "markdown",
   "id": "0167fc47-dd84-4a31-98d0-a0270f04bfd5",
   "metadata": {},
   "source": [
    "Here we then assign a label to each hit as _signal_ or _background_, depending on the Monte Carlo truth information. Since the dimension of  `detshmc.rel._rel` is not guaranteed to be the same as the dimension of `detsh` we need to loop over all the entries."
   ]
  },
  {
   "cell_type": "code",
   "execution_count": 6,
   "id": "e546d312-4d8b-4757-9b0e-7293d9eae321",
   "metadata": {},
   "outputs": [],
   "source": [
    "# mcrel = []\n",
    "\n",
    "# for i, this_dt in enumerate(trkana['detsh.udt'][:n]):\n",
    "#     mcrel.extend(trkana['detshmc.rel._rel'][i][:len(this_dt)])\n",
    "    \n",
    "mcrel = np.array(mcrel)\n",
    "true_ce = mcrel==0\n",
    "    \n",
    "signal = true_ce\n",
    "bkg = mcrel ==-1"
   ]
  },
  {
   "cell_type": "markdown",
   "id": "0c2e8445-92ff-416f-a9a8-2d071b1f0bb9",
   "metadata": {},
   "source": [
    "In our problem we have a different number of signal and background entries in our input dataset. There are several techniques avaialable for _unbalanced_ datasets. Here we are using the most naive one, which is just using $\\min(N_{sig}, N_{bkg})$ events. Then, we divide our input into the _training_, _validation_, and _test_ datasets."
   ]
  },
  {
   "cell_type": "code",
   "execution_count": 7,
   "id": "2ed7b23e-d3ab-4645-a905-c3d4090eb7ab",
   "metadata": {},
   "outputs": [],
   "source": [
    "min_len = min(len(input_dataset[signal]), len(input_dataset[bkg]))\n",
    "\n",
    "signal_dataset = input_dataset[signal][:min_len]\n",
    "bkg_dataset = input_dataset[bkg][:min_len]\n",
    "\n",
    "balanced_input = np.concatenate((signal_dataset, bkg_dataset))\n",
    "y_balanced_input = np.concatenate((np.ones(signal_dataset.shape[0]), np.zeros(bkg_dataset.shape[0])))\n",
    "\n",
    "n_variables = balanced_input.shape[1]\n",
    "\n",
    "x_ce_train, x_ce_test, y_ce_train, y_ce_test = train_test_split(balanced_input, y_balanced_input, test_size=0.5, random_state=42)\n",
    "x_ce_test, x_ce_valid, y_ce_test, y_ce_valid = train_test_split(x_ce_test, y_ce_test, test_size=0.5, random_state=42)"
   ]
  },
  {
   "cell_type": "markdown",
   "id": "414715a1-8fe6-47d2-b856-76e7f09a30c5",
   "metadata": {},
   "source": [
    "## Create and train a multi-layer perceptron"
   ]
  },
  {
   "cell_type": "markdown",
   "id": "5d3968ba-51a2-45c8-9882-c989a3f7d691",
   "metadata": {},
   "source": [
    "Here we create a _multi-layer perceptron_ (MLP) model which consists of 3 fully-connected (or _dense_) layers, each one followed by a _dropout_ layer, which helps to avoid overfitting. The model is trained using the [Adam](https://arxiv.org/abs/1412.6980) optimizer and trained for 50 epochs or until the validation loss doesn't improve for 5 epochs (`early_stop`). "
   ]
  },
  {
   "cell_type": "code",
   "execution_count": 8,
   "id": "523e7eed",
   "metadata": {},
   "outputs": [],
   "source": [
    "# set up tensorboard\n"
   ]
  },
  {
   "cell_type": "code",
   "execution_count": 19,
   "id": "6be3a800-39dd-41ff-bd78-c5156fd4919c",
   "metadata": {},
   "outputs": [
    {
     "name": "stdout",
     "output_type": "stream",
     "text": [
      "Epoch 1/50\n",
      "737/737 [==============================] - 1s 976us/step - loss: 1.2589 - accuracy: 0.7742 - val_loss: 0.6523 - val_accuracy: 0.7828\n",
      "Epoch 2/50\n",
      "737/737 [==============================] - 1s 887us/step - loss: 0.5484 - accuracy: 0.8013 - val_loss: 0.5128 - val_accuracy: 0.8171\n",
      "Epoch 3/50\n",
      "737/737 [==============================] - 1s 847us/step - loss: 0.4950 - accuracy: 0.8090 - val_loss: 0.7838 - val_accuracy: 0.7815\n",
      "Epoch 4/50\n",
      "737/737 [==============================] - 1s 843us/step - loss: 0.4724 - accuracy: 0.8183 - val_loss: 0.4601 - val_accuracy: 0.8140\n",
      "Epoch 5/50\n",
      "737/737 [==============================] - 1s 849us/step - loss: 0.4505 - accuracy: 0.8277 - val_loss: 0.4317 - val_accuracy: 0.8393\n",
      "Epoch 6/50\n",
      "737/737 [==============================] - 1s 851us/step - loss: 0.4263 - accuracy: 0.8354 - val_loss: 0.4194 - val_accuracy: 0.8384\n",
      "Epoch 7/50\n",
      "737/737 [==============================] - 1s 846us/step - loss: 0.4089 - accuracy: 0.8423 - val_loss: 0.3942 - val_accuracy: 0.8557\n",
      "Epoch 8/50\n",
      "737/737 [==============================] - 1s 845us/step - loss: 0.4059 - accuracy: 0.8439 - val_loss: 0.4062 - val_accuracy: 0.8492\n",
      "Epoch 9/50\n",
      "737/737 [==============================] - 1s 845us/step - loss: 0.3813 - accuracy: 0.8501 - val_loss: 0.3981 - val_accuracy: 0.8442\n",
      "Epoch 10/50\n",
      "737/737 [==============================] - 1s 845us/step - loss: 0.3619 - accuracy: 0.8598 - val_loss: 0.3713 - val_accuracy: 0.8546\n",
      "Epoch 11/50\n",
      "737/737 [==============================] - 1s 845us/step - loss: 0.3543 - accuracy: 0.8621 - val_loss: 0.3442 - val_accuracy: 0.8741\n",
      "Epoch 12/50\n",
      "737/737 [==============================] - 1s 857us/step - loss: 0.3295 - accuracy: 0.8769 - val_loss: 0.3241 - val_accuracy: 0.8793\n",
      "Epoch 13/50\n",
      "737/737 [==============================] - 1s 854us/step - loss: 0.2921 - accuracy: 0.8911 - val_loss: 0.3724 - val_accuracy: 0.8768\n",
      "Epoch 14/50\n",
      "737/737 [==============================] - 1s 844us/step - loss: 0.2814 - accuracy: 0.8942 - val_loss: 0.3016 - val_accuracy: 0.8977\n",
      "Epoch 15/50\n",
      "737/737 [==============================] - 1s 846us/step - loss: 0.2706 - accuracy: 0.8999 - val_loss: 0.3002 - val_accuracy: 0.8982\n",
      "Epoch 16/50\n",
      "737/737 [==============================] - 1s 845us/step - loss: 0.2680 - accuracy: 0.9016 - val_loss: 0.2718 - val_accuracy: 0.9098\n",
      "Epoch 17/50\n",
      "737/737 [==============================] - 1s 847us/step - loss: 0.2537 - accuracy: 0.9085 - val_loss: 0.2934 - val_accuracy: 0.8946\n",
      "Epoch 18/50\n",
      "737/737 [==============================] - 1s 848us/step - loss: 0.2500 - accuracy: 0.9096 - val_loss: 0.2636 - val_accuracy: 0.9109\n",
      "Epoch 19/50\n",
      "737/737 [==============================] - 1s 859us/step - loss: 0.2370 - accuracy: 0.9140 - val_loss: 0.2687 - val_accuracy: 0.9068\n",
      "Epoch 20/50\n",
      "737/737 [==============================] - 1s 844us/step - loss: 0.2216 - accuracy: 0.9202 - val_loss: 0.2126 - val_accuracy: 0.9298\n",
      "Epoch 21/50\n",
      "737/737 [==============================] - 1s 847us/step - loss: 0.2041 - accuracy: 0.9306 - val_loss: 0.2514 - val_accuracy: 0.9128\n",
      "Epoch 22/50\n",
      "737/737 [==============================] - 1s 844us/step - loss: 0.2065 - accuracy: 0.9276 - val_loss: 0.2208 - val_accuracy: 0.9266\n",
      "Epoch 23/50\n",
      "737/737 [==============================] - 1s 853us/step - loss: 0.1890 - accuracy: 0.9355 - val_loss: 0.1872 - val_accuracy: 0.9400\n",
      "Epoch 24/50\n",
      "737/737 [==============================] - 1s 858us/step - loss: 0.1829 - accuracy: 0.9366 - val_loss: 0.1860 - val_accuracy: 0.9400\n",
      "Epoch 25/50\n",
      "737/737 [==============================] - 1s 849us/step - loss: 0.1824 - accuracy: 0.9370 - val_loss: 0.1874 - val_accuracy: 0.9398\n",
      "Epoch 26/50\n",
      "737/737 [==============================] - 1s 851us/step - loss: 0.1801 - accuracy: 0.9375 - val_loss: 0.1859 - val_accuracy: 0.9382\n",
      "Epoch 27/50\n",
      "737/737 [==============================] - 1s 855us/step - loss: 0.1794 - accuracy: 0.9376 - val_loss: 0.1865 - val_accuracy: 0.9383\n",
      "Epoch 28/50\n",
      "737/737 [==============================] - 1s 845us/step - loss: 0.1751 - accuracy: 0.9392 - val_loss: 0.1696 - val_accuracy: 0.9428\n",
      "Epoch 29/50\n",
      "737/737 [==============================] - 1s 846us/step - loss: 0.1700 - accuracy: 0.9419 - val_loss: 0.1722 - val_accuracy: 0.9426\n",
      "Epoch 30/50\n",
      "737/737 [==============================] - 1s 845us/step - loss: 0.1724 - accuracy: 0.9400 - val_loss: 0.1740 - val_accuracy: 0.9392\n",
      "Epoch 31/50\n",
      "737/737 [==============================] - 1s 845us/step - loss: 0.1689 - accuracy: 0.9420 - val_loss: 0.1739 - val_accuracy: 0.9425\n",
      "Epoch 32/50\n",
      "737/737 [==============================] - 1s 847us/step - loss: 0.1667 - accuracy: 0.9419 - val_loss: 0.1759 - val_accuracy: 0.9389\n",
      "Epoch 33/50\n",
      "737/737 [==============================] - 1s 858us/step - loss: 0.1655 - accuracy: 0.9431 - val_loss: 0.1768 - val_accuracy: 0.9428\n"
     ]
    }
   ],
   "source": [
    "opt = Adam(learning_rate=1e-3)\n",
    "\n",
    "model_ce = Sequential()\n",
    "model_ce.add(Dense(n_variables+1, activation='relu', input_shape=(n_variables,)))\n",
    "#model_ce.add(Dropout(0.00005))\n",
    "model_ce.add(Dense(n_variables+1, activation='relu'))\n",
    "#model_ce.add(Dropout(0.00005))\n",
    "model_ce.add(Dense(n_variables+1, activation='relu'))\n",
    "#model_ce.add(Dropout(0.00005))\n",
    "model_ce.add(Dense(1, activation='sigmoid'))\n",
    "model_ce.compile(loss='binary_crossentropy',\n",
    "                 metrics='accuracy',\n",
    "                 optimizer=opt)\n",
    "\n",
    "early_stop = EarlyStopping(monitor='val_loss', patience=5)\n",
    "history_ce = model_ce.fit(x_ce_train, y_ce_train,\n",
    "                          epochs=50,\n",
    "                          verbose=1,\n",
    "                          validation_data=(x_ce_valid, y_ce_valid),\n",
    "                          callbacks=[early_stop])\n",
    "#early stop-- what is the threshold? can this be improved \n",
    "# need to add tensorboard in callbacks\n",
    "\n",
    "#save the model in an h5\n",
    "model_ce.save(\"KKtrainModel.h5\")\n"
   ]
  },
  {
   "cell_type": "code",
   "execution_count": null,
   "id": "c223201c",
   "metadata": {},
   "outputs": [],
   "source": [
    "plt.plot(history_ce.history['val_loss'],label=\"val loss\")\n",
    "plt.plot(history_ce.history['loss'],label=\"loss\")\n",
    "plt.legend()\n",
    "\n",
    "%load_ext tensorboard\n",
    "#rm -rf ./logs/\n",
    "%tensorboard --logdir logs/fit\n"
   ]
  },
  {
   "cell_type": "markdown",
   "id": "e78fb06e-22e5-4ecb-b2c5-48b591268733",
   "metadata": {},
   "source": [
    "## Create and train a Boosted Decision Tree\n",
    "Here, instead of using a MLP, we use a [_Gradient Boosted Decision Tree_](https://xgboost.readthedocs.io/en/stable/) (BDT) to distinguish between signal (true CE hits) and background (fake CE hits). We use the defualt hyperparameters."
   ]
  },
  {
   "cell_type": "code",
   "execution_count": null,
   "id": "698e5894-b4e3-405c-a99b-c76b2f12403b",
   "metadata": {},
   "outputs": [],
   "source": [
    "model_xgboost = XGBClassifier()\n",
    "model_xgboost.fit(x_ce_train, y_ce_train)"
   ]
  },
  {
   "cell_type": "markdown",
   "id": "d7aa6212-21f7-46c8-b7af-dab07ced4269",
   "metadata": {},
   "source": [
    "Here we can finally apply our two models (the MLP and the BDT) to our test datasets and create the corresponding ROC curves."
   ]
  },
  {
   "cell_type": "code",
   "execution_count": null,
   "id": "3dcbef70-e875-40dd-8a8f-5a66fc32fb1d",
   "metadata": {},
   "outputs": [],
   "source": [
    "prediction_ce = model_ce.predict(x_ce_test).ravel()\n",
    "fpr_ce, tpr_ce, th_ce = roc_curve(y_ce_test,  prediction_ce)\n",
    "auc_ce = roc_auc_score(y_ce_test, prediction_ce)"
   ]
  },
  {
   "cell_type": "code",
   "execution_count": null,
   "id": "cce6a838-1a4c-41e3-a2bb-46a270ad6d86",
   "metadata": {},
   "outputs": [],
   "source": [
    "prediction_xgboost = model_xgboost.predict_proba(x_ce_test)[:,1]\n",
    "fpr_xgboost, tpr_xgboost, th_xgboost = roc_curve(y_ce_test,  prediction_xgboost)\n",
    "auc_xgboost = roc_auc_score(y_ce_test, prediction_xgboost)"
   ]
  },
  {
   "cell_type": "markdown",
   "id": "a7f392a2-223f-4a47-81de-45dc56b8e42d",
   "metadata": {},
   "source": [
    "The plot of the ROC curves clearly shows that the BDT outperforms the MLP. In principle, however, it should be possible to improve the MLP performances by optimizing the hyperparameters (learning rate, hidden layers, activation functions, etc.)."
   ]
  },
  {
   "cell_type": "code",
   "execution_count": 18,
   "id": "def9b80f-d130-4ac0-bc19-ea03de7032f7",
   "metadata": {},
   "outputs": [
    {
     "data": {
      "image/png": "[encoded data removed]",
      "text/plain": [
       "<Figure size 640x480 with 1 Axes>"
      ]
     },
     "metadata": {},
     "output_type": "display_data"
    }
   ],
   "source": [
    "fig, ax = plt.subplots(1,1)\n",
    "ax.plot(tpr_ce,1-fpr_ce,label=f'MLP AUC: {auc_ce:.3f}')\n",
    "ax.plot(tpr_xgboost,1-fpr_xgboost,label=f'BDT AUC: {auc_xgboost:.3f}')\n",
    "\n",
    "ax.legend()\n",
    "ax.set_aspect(\"equal\")\n",
    "ax.set_xlabel(\"Signal efficiency\")\n",
    "ax.set_ylabel(\"Background rejection\")\n",
    "ax.set_xlim(0,1.05)\n",
    "ax.set_ylim(0,1.05)\n",
    "fig.savefig(\"truece.pdf\")"
   ]
  },
  {
   "cell_type": "code",
   "execution_count": 15,
   "id": "5ba6c423-d401-48e8-a462-20a95088e4cb",
   "metadata": {},
   "outputs": [],
   "source": [
    "#n_variables+1 and No dropout"
   ]
  },
  {
   "cell_type": "code",
   "execution_count": 16,
   "id": "b4f3cd8e",
   "metadata": {},
   "outputs": [],
   "source": [
    "# make environemnt variable before call jypter notebook return in cori\n",
    "#try n+1 on layers with 3 digits\n",
    "#early stop-- what is the threshold? can this be improved \n",
    "#graphs --r\n",
    "# sit down with jennifer an consolodate training file \n",
    "#can we save the model with a batch size? specify so sophie can read it out SOFIE R-model witha batch size ange and bins\n",
    "\n",
    "\n",
    "\n",
    "#hdf5 view"
   ]
  }
 ],
 "metadata": {
  "kernelspec": {
   "display_name": "Python_tf",
   "language": "python",
   "name": "myenv"
  },
  "language_info": {
   "codemirror_mode": {
    "name": "ipython",
    "version": 3
   },
   "file_extension": ".py",
   "mimetype": "text/x-python",
   "name": "python",
   "nbconvert_exporter": "python",
   "pygments_lexer": "ipython3",
   "version": "3.10.6"
  }
 },
 "nbformat": 4,
 "nbformat_minor": 5
}
