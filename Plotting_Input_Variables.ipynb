{
 "cells": [
  {
   "cell_type": "markdown",
   "id": "6c2ddf4f",
   "metadata": {},
   "source": [
    "# Plotting Input Variables"
   ]
  },
  {
   "cell_type": "code",
   "execution_count": 1,
   "id": "6873e7a1",
   "metadata": {},
   "outputs": [],
   "source": [
    "import uproot \n",
    "import awkward as ak\n",
    "import numpy as np\n",
    "import matplotlib.pyplot as plt"
   ]
  },
  {
   "cell_type": "markdown",
   "id": "116bb154",
   "metadata": {},
   "source": [
    "Open the file, then extract variables"
   ]
  },
  {
   "cell_type": "code",
   "execution_count": 2,
   "id": "b2a0b7c2",
   "metadata": {},
   "outputs": [
    {
     "ename": "FileNotFoundError",
     "evalue": "file not found\n\n    'nts.brownd.KKSeed.KKSM.001210_00000005.root'\n\nFiles may be specified as:\n   * str/bytes: relative or absolute filesystem path or URL, without any colons\n         other than Windows drive letter or URL schema.\n         Examples: \"rel/file.root\", \"C:\\abs\\file.root\", \"http://where/what.root\"\n   * str/bytes: same with an object-within-ROOT path, separated by a colon.\n         Example: \"rel/file.root:tdirectory/ttree\"\n   * pathlib.Path: always interpreted as a filesystem path or URL only (no\n         object-within-ROOT path), regardless of whether there are any colons.\n         Examples: Path(\"rel:/file.root\"), Path(\"/abs/path:stuff.root\")\n\nFunctions that accept many files (uproot.iterate, etc.) also allow:\n   * glob syntax in str/bytes and pathlib.Path.\n         Examples: Path(\"rel/*.root\"), \"/abs/*.root:tdirectory/ttree\"\n   * dict: keys are filesystem paths, values are objects-within-ROOT paths.\n         Example: {\"/data_v1/*.root\": \"ttree_v1\", \"/data_v2/*.root\": \"ttree_v2\"}\n   * already-open TTree objects.\n   * iterables of the above.\n",
     "output_type": "error",
     "traceback": [
      "\u001b[0;31m---------------------------------------------------------------------------\u001b[0m",
      "\u001b[0;31mFileNotFoundError\u001b[0m                         Traceback (most recent call last)",
      "File \u001b[0;32m~/opt/anaconda3/envs/tf/lib/python3.10/site-packages/uproot/source/file.py:112\u001b[0m, in \u001b[0;36mMemmapSource._open\u001b[0;34m(self)\u001b[0m\n\u001b[1;32m    111\u001b[0m \u001b[38;5;28;01mtry\u001b[39;00m:\n\u001b[0;32m--> 112\u001b[0m     \u001b[38;5;28mself\u001b[39m\u001b[38;5;241m.\u001b[39m_file \u001b[38;5;241m=\u001b[39m \u001b[43mnumpy\u001b[49m\u001b[38;5;241;43m.\u001b[39;49m\u001b[43mmemmap\u001b[49m\u001b[43m(\u001b[49m\u001b[38;5;28;43mself\u001b[39;49m\u001b[38;5;241;43m.\u001b[39;49m\u001b[43m_file_path\u001b[49m\u001b[43m,\u001b[49m\u001b[43m \u001b[49m\u001b[43mdtype\u001b[49m\u001b[38;5;241;43m=\u001b[39;49m\u001b[38;5;28;43mself\u001b[39;49m\u001b[38;5;241;43m.\u001b[39;49m\u001b[43m_dtype\u001b[49m\u001b[43m,\u001b[49m\u001b[43m \u001b[49m\u001b[43mmode\u001b[49m\u001b[38;5;241;43m=\u001b[39;49m\u001b[38;5;124;43m\"\u001b[39;49m\u001b[38;5;124;43mr\u001b[39;49m\u001b[38;5;124;43m\"\u001b[39;49m\u001b[43m)\u001b[49m\n\u001b[1;32m    113\u001b[0m     \u001b[38;5;28mself\u001b[39m\u001b[38;5;241m.\u001b[39m_fallback \u001b[38;5;241m=\u001b[39m \u001b[38;5;28;01mNone\u001b[39;00m\n",
      "File \u001b[0;32m~/opt/anaconda3/envs/tf/lib/python3.10/site-packages/numpy/core/memmap.py:228\u001b[0m, in \u001b[0;36mmemmap.__new__\u001b[0;34m(subtype, filename, dtype, mode, offset, shape, order)\u001b[0m\n\u001b[1;32m    227\u001b[0m \u001b[38;5;28;01melse\u001b[39;00m:\n\u001b[0;32m--> 228\u001b[0m     f_ctx \u001b[38;5;241m=\u001b[39m \u001b[38;5;28;43mopen\u001b[39;49m\u001b[43m(\u001b[49m\u001b[43mos_fspath\u001b[49m\u001b[43m(\u001b[49m\u001b[43mfilename\u001b[49m\u001b[43m)\u001b[49m\u001b[43m,\u001b[49m\u001b[43m \u001b[49m\u001b[43m(\u001b[49m\u001b[38;5;124;43m'\u001b[39;49m\u001b[38;5;124;43mr\u001b[39;49m\u001b[38;5;124;43m'\u001b[39;49m\u001b[43m \u001b[49m\u001b[38;5;28;43;01mif\u001b[39;49;00m\u001b[43m \u001b[49m\u001b[43mmode\u001b[49m\u001b[43m \u001b[49m\u001b[38;5;241;43m==\u001b[39;49m\u001b[43m \u001b[49m\u001b[38;5;124;43m'\u001b[39;49m\u001b[38;5;124;43mc\u001b[39;49m\u001b[38;5;124;43m'\u001b[39;49m\u001b[43m \u001b[49m\u001b[38;5;28;43;01melse\u001b[39;49;00m\u001b[43m \u001b[49m\u001b[43mmode\u001b[49m\u001b[43m)\u001b[49m\u001b[38;5;241;43m+\u001b[39;49m\u001b[38;5;124;43m'\u001b[39;49m\u001b[38;5;124;43mb\u001b[39;49m\u001b[38;5;124;43m'\u001b[39;49m\u001b[43m)\u001b[49m\n\u001b[1;32m    230\u001b[0m \u001b[38;5;28;01mwith\u001b[39;00m f_ctx \u001b[38;5;28;01mas\u001b[39;00m fid:\n",
      "\u001b[0;31mFileNotFoundError\u001b[0m: [Errno 2] No such file or directory: 'nts.brownd.KKSeed.KKSM.001210_00000005.root'",
      "\nDuring handling of the above exception, another exception occurred:\n",
      "\u001b[0;31mFileNotFoundError\u001b[0m                         Traceback (most recent call last)",
      "File \u001b[0;32m~/opt/anaconda3/envs/tf/lib/python3.10/site-packages/uproot/source/file.py:36\u001b[0m, in \u001b[0;36mFileResource.__init__\u001b[0;34m(self, file_path)\u001b[0m\n\u001b[1;32m     35\u001b[0m \u001b[38;5;28;01mtry\u001b[39;00m:\n\u001b[0;32m---> 36\u001b[0m     \u001b[38;5;28mself\u001b[39m\u001b[38;5;241m.\u001b[39m_file \u001b[38;5;241m=\u001b[39m \u001b[38;5;28;43mopen\u001b[39;49m\u001b[43m(\u001b[49m\u001b[38;5;28;43mself\u001b[39;49m\u001b[38;5;241;43m.\u001b[39;49m\u001b[43m_file_path\u001b[49m\u001b[43m,\u001b[49m\u001b[43m \u001b[49m\u001b[38;5;124;43m\"\u001b[39;49m\u001b[38;5;124;43mrb\u001b[39;49m\u001b[38;5;124;43m\"\u001b[39;49m\u001b[43m)\u001b[49m\n\u001b[1;32m     37\u001b[0m \u001b[38;5;28;01mexcept\u001b[39;00m uproot\u001b[38;5;241m.\u001b[39m_util\u001b[38;5;241m.\u001b[39m_FileNotFoundError \u001b[38;5;28;01mas\u001b[39;00m err:\n",
      "\u001b[0;31mFileNotFoundError\u001b[0m: [Errno 2] No such file or directory: 'nts.brownd.KKSeed.KKSM.001210_00000005.root'",
      "\nThe above exception was the direct cause of the following exception:\n",
      "\u001b[0;31mFileNotFoundError\u001b[0m                         Traceback (most recent call last)",
      "Cell \u001b[0;32mIn [2], line 1\u001b[0m\n\u001b[0;32m----> 1\u001b[0m \u001b[38;5;28;01mwith\u001b[39;00m \u001b[43muproot\u001b[49m\u001b[38;5;241;43m.\u001b[39;49m\u001b[43mopen\u001b[49m\u001b[43m(\u001b[49m\u001b[38;5;124;43m\"\u001b[39;49m\u001b[38;5;124;43mnts.brownd.KKSeed.KKSM.001210_00000005.root\u001b[39;49m\u001b[38;5;124;43m\"\u001b[39;49m\u001b[43m)\u001b[49m \u001b[38;5;28;01mas\u001b[39;00m file:\n\u001b[1;32m      2\u001b[0m     trkana \u001b[38;5;241m=\u001b[39m file[\u001b[38;5;124m\"\u001b[39m\u001b[38;5;124mTAKK\u001b[39m\u001b[38;5;124m\"\u001b[39m][\u001b[38;5;124m\"\u001b[39m\u001b[38;5;124mtrkana\u001b[39m\u001b[38;5;124m\"\u001b[39m]\u001b[38;5;241m.\u001b[39marrays(filter_name\u001b[38;5;241m=\u001b[39m\u001b[38;5;124m\"\u001b[39m\u001b[38;5;124m/de|detsh|detshmc|demc/i\u001b[39m\u001b[38;5;124m\"\u001b[39m)\n\u001b[1;32m      3\u001b[0m     trkana \u001b[38;5;241m=\u001b[39m trkana[(trkana[\u001b[38;5;124m'\u001b[39m\u001b[38;5;124mde.goodfit\u001b[39m\u001b[38;5;124m'\u001b[39m]\u001b[38;5;241m==\u001b[39m\u001b[38;5;241m1\u001b[39m)\u001b[38;5;241m&\u001b[39m(trkana[\u001b[38;5;124m'\u001b[39m\u001b[38;5;124mde.status\u001b[39m\u001b[38;5;124m'\u001b[39m]\u001b[38;5;241m>\u001b[39m\u001b[38;5;241m0\u001b[39m)\u001b[38;5;241m&\u001b[39m(trkana[\u001b[38;5;124m'\u001b[39m\u001b[38;5;124mdemc.proc\u001b[39m\u001b[38;5;124m'\u001b[39m]\u001b[38;5;241m==\u001b[39m\u001b[38;5;241m167\u001b[39m)]\n",
      "File \u001b[0;32m~/opt/anaconda3/envs/tf/lib/python3.10/site-packages/uproot/reading.py:141\u001b[0m, in \u001b[0;36mopen\u001b[0;34m(path, object_cache, array_cache, custom_classes, decompression_executor, interpretation_executor, **options)\u001b[0m\n\u001b[1;32m    132\u001b[0m \u001b[38;5;28;01mif\u001b[39;00m \u001b[38;5;129;01mnot\u001b[39;00m uproot\u001b[38;5;241m.\u001b[39m_util\u001b[38;5;241m.\u001b[39misstr(file_path) \u001b[38;5;129;01mand\u001b[39;00m \u001b[38;5;129;01mnot\u001b[39;00m (\n\u001b[1;32m    133\u001b[0m     \u001b[38;5;28mhasattr\u001b[39m(file_path, \u001b[38;5;124m\"\u001b[39m\u001b[38;5;124mread\u001b[39m\u001b[38;5;124m\"\u001b[39m) \u001b[38;5;129;01mand\u001b[39;00m \u001b[38;5;28mhasattr\u001b[39m(file_path, \u001b[38;5;124m\"\u001b[39m\u001b[38;5;124mseek\u001b[39m\u001b[38;5;124m\"\u001b[39m)\n\u001b[1;32m    134\u001b[0m ):\n\u001b[1;32m    135\u001b[0m     \u001b[38;5;28;01mraise\u001b[39;00m \u001b[38;5;167;01mValueError\u001b[39;00m(\n\u001b[1;32m    136\u001b[0m         \u001b[38;5;124m\"\u001b[39m\u001b[38;5;124m'\u001b[39m\u001b[38;5;124mpath\u001b[39m\u001b[38;5;124m'\u001b[39m\u001b[38;5;124m must be a string, pathlib.Path, an object with \u001b[39m\u001b[38;5;124m'\u001b[39m\u001b[38;5;124mread\u001b[39m\u001b[38;5;124m'\u001b[39m\u001b[38;5;124m and \u001b[39m\u001b[38;5;124m\"\u001b[39m\n\u001b[1;32m    137\u001b[0m         \u001b[38;5;124m\"\u001b[39m\u001b[38;5;124m'\u001b[39m\u001b[38;5;124mseek\u001b[39m\u001b[38;5;124m'\u001b[39m\u001b[38;5;124m methods, or a length-1 dict of \u001b[39m\u001b[38;5;124m{{\u001b[39m\u001b[38;5;124mfile_path: object_path}}, \u001b[39m\u001b[38;5;124m\"\u001b[39m\n\u001b[1;32m    138\u001b[0m         \u001b[38;5;124m\"\u001b[39m\u001b[38;5;124mnot \u001b[39m\u001b[38;5;132;01m{0}\u001b[39;00m\u001b[38;5;124m\"\u001b[39m\u001b[38;5;241m.\u001b[39mformat(\u001b[38;5;28mrepr\u001b[39m(path))\n\u001b[1;32m    139\u001b[0m     )\n\u001b[0;32m--> 141\u001b[0m file \u001b[38;5;241m=\u001b[39m \u001b[43mReadOnlyFile\u001b[49m\u001b[43m(\u001b[49m\n\u001b[1;32m    142\u001b[0m \u001b[43m    \u001b[49m\u001b[43mfile_path\u001b[49m\u001b[43m,\u001b[49m\n\u001b[1;32m    143\u001b[0m \u001b[43m    \u001b[49m\u001b[43mobject_cache\u001b[49m\u001b[38;5;241;43m=\u001b[39;49m\u001b[43mobject_cache\u001b[49m\u001b[43m,\u001b[49m\n\u001b[1;32m    144\u001b[0m \u001b[43m    \u001b[49m\u001b[43marray_cache\u001b[49m\u001b[38;5;241;43m=\u001b[39;49m\u001b[43marray_cache\u001b[49m\u001b[43m,\u001b[49m\n\u001b[1;32m    145\u001b[0m \u001b[43m    \u001b[49m\u001b[43mcustom_classes\u001b[49m\u001b[38;5;241;43m=\u001b[39;49m\u001b[43mcustom_classes\u001b[49m\u001b[43m,\u001b[49m\n\u001b[1;32m    146\u001b[0m \u001b[43m    \u001b[49m\u001b[43mdecompression_executor\u001b[49m\u001b[38;5;241;43m=\u001b[39;49m\u001b[43mdecompression_executor\u001b[49m\u001b[43m,\u001b[49m\n\u001b[1;32m    147\u001b[0m \u001b[43m    \u001b[49m\u001b[43minterpretation_executor\u001b[49m\u001b[38;5;241;43m=\u001b[39;49m\u001b[43minterpretation_executor\u001b[49m\u001b[43m,\u001b[49m\n\u001b[1;32m    148\u001b[0m \u001b[43m    \u001b[49m\u001b[38;5;241;43m*\u001b[39;49m\u001b[38;5;241;43m*\u001b[39;49m\u001b[43moptions\u001b[49m\u001b[43m,\u001b[49m\u001b[43m  \u001b[49m\u001b[38;5;66;43;03m# NOTE: a comma after **options breaks Python 2\u001b[39;49;00m\n\u001b[1;32m    149\u001b[0m \u001b[43m\u001b[49m\u001b[43m)\u001b[49m\n\u001b[1;32m    151\u001b[0m \u001b[38;5;28;01mif\u001b[39;00m object_path \u001b[38;5;129;01mis\u001b[39;00m \u001b[38;5;28;01mNone\u001b[39;00m:\n\u001b[1;32m    152\u001b[0m     \u001b[38;5;28;01mreturn\u001b[39;00m file\u001b[38;5;241m.\u001b[39mroot_directory\n",
      "File \u001b[0;32m~/opt/anaconda3/envs/tf/lib/python3.10/site-packages/uproot/reading.py:580\u001b[0m, in \u001b[0;36mReadOnlyFile.__init__\u001b[0;34m(self, file_path, object_cache, array_cache, custom_classes, decompression_executor, interpretation_executor, **options)\u001b[0m\n\u001b[1;32m    575\u001b[0m \u001b[38;5;28mself\u001b[39m\u001b[38;5;241m.\u001b[39mhook_before_create_source()\n\u001b[1;32m    577\u001b[0m Source, file_path \u001b[38;5;241m=\u001b[39m uproot\u001b[38;5;241m.\u001b[39m_util\u001b[38;5;241m.\u001b[39mfile_path_to_source_class(\n\u001b[1;32m    578\u001b[0m     file_path, \u001b[38;5;28mself\u001b[39m\u001b[38;5;241m.\u001b[39m_options\n\u001b[1;32m    579\u001b[0m )\n\u001b[0;32m--> 580\u001b[0m \u001b[38;5;28mself\u001b[39m\u001b[38;5;241m.\u001b[39m_source \u001b[38;5;241m=\u001b[39m \u001b[43mSource\u001b[49m\u001b[43m(\u001b[49m\n\u001b[1;32m    581\u001b[0m \u001b[43m    \u001b[49m\u001b[43mfile_path\u001b[49m\u001b[43m,\u001b[49m\u001b[43m \u001b[49m\u001b[38;5;241;43m*\u001b[39;49m\u001b[38;5;241;43m*\u001b[39;49m\u001b[38;5;28;43mself\u001b[39;49m\u001b[38;5;241;43m.\u001b[39;49m\u001b[43m_options\u001b[49m\u001b[43m  \u001b[49m\u001b[38;5;66;43;03m# NOTE: a comma after **options breaks Python 2\u001b[39;49;00m\n\u001b[1;32m    582\u001b[0m \u001b[43m\u001b[49m\u001b[43m)\u001b[49m\n\u001b[1;32m    584\u001b[0m \u001b[38;5;28mself\u001b[39m\u001b[38;5;241m.\u001b[39mhook_before_get_chunks()\n\u001b[1;32m    586\u001b[0m \u001b[38;5;28;01mif\u001b[39;00m \u001b[38;5;28mself\u001b[39m\u001b[38;5;241m.\u001b[39m_options[\u001b[38;5;124m\"\u001b[39m\u001b[38;5;124mbegin_chunk_size\u001b[39m\u001b[38;5;124m\"\u001b[39m] \u001b[38;5;241m<\u001b[39m _file_header_fields_big\u001b[38;5;241m.\u001b[39msize:\n",
      "File \u001b[0;32m~/opt/anaconda3/envs/tf/lib/python3.10/site-packages/uproot/source/file.py:108\u001b[0m, in \u001b[0;36mMemmapSource.__init__\u001b[0;34m(self, file_path, **options)\u001b[0m\n\u001b[1;32m    105\u001b[0m \u001b[38;5;28mself\u001b[39m\u001b[38;5;241m.\u001b[39m_num_requested_bytes \u001b[38;5;241m=\u001b[39m \u001b[38;5;241m0\u001b[39m\n\u001b[1;32m    107\u001b[0m \u001b[38;5;28mself\u001b[39m\u001b[38;5;241m.\u001b[39m_file_path \u001b[38;5;241m=\u001b[39m file_path\n\u001b[0;32m--> 108\u001b[0m \u001b[38;5;28;43mself\u001b[39;49m\u001b[38;5;241;43m.\u001b[39;49m\u001b[43m_open\u001b[49m\u001b[43m(\u001b[49m\u001b[43m)\u001b[49m\n",
      "File \u001b[0;32m~/opt/anaconda3/envs/tf/lib/python3.10/site-packages/uproot/source/file.py:118\u001b[0m, in \u001b[0;36mMemmapSource._open\u001b[0;34m(self)\u001b[0m\n\u001b[1;32m    116\u001b[0m opts \u001b[38;5;241m=\u001b[39m \u001b[38;5;28mdict\u001b[39m(\u001b[38;5;28mself\u001b[39m\u001b[38;5;241m.\u001b[39m_fallback_opts)\n\u001b[1;32m    117\u001b[0m opts[\u001b[38;5;124m\"\u001b[39m\u001b[38;5;124mnum_workers\u001b[39m\u001b[38;5;124m\"\u001b[39m] \u001b[38;5;241m=\u001b[39m \u001b[38;5;28mself\u001b[39m\u001b[38;5;241m.\u001b[39m_num_fallback_workers\n\u001b[0;32m--> 118\u001b[0m \u001b[38;5;28mself\u001b[39m\u001b[38;5;241m.\u001b[39m_fallback \u001b[38;5;241m=\u001b[39m \u001b[43muproot\u001b[49m\u001b[38;5;241;43m.\u001b[39;49m\u001b[43msource\u001b[49m\u001b[38;5;241;43m.\u001b[39;49m\u001b[43mfile\u001b[49m\u001b[38;5;241;43m.\u001b[39;49m\u001b[43mMultithreadedFileSource\u001b[49m\u001b[43m(\u001b[49m\n\u001b[1;32m    119\u001b[0m \u001b[43m    \u001b[49m\u001b[38;5;28;43mself\u001b[39;49m\u001b[38;5;241;43m.\u001b[39;49m\u001b[43m_file_path\u001b[49m\u001b[43m,\u001b[49m\u001b[43m \u001b[49m\u001b[38;5;241;43m*\u001b[39;49m\u001b[38;5;241;43m*\u001b[39;49m\u001b[43mopts\u001b[49m\u001b[43m  \u001b[49m\u001b[38;5;66;43;03m# NOTE: a comma after **opts breaks Python 2\u001b[39;49;00m\n\u001b[1;32m    120\u001b[0m \u001b[43m\u001b[49m\u001b[43m)\u001b[49m\n",
      "File \u001b[0;32m~/opt/anaconda3/envs/tf/lib/python3.10/site-packages/uproot/source/file.py:250\u001b[0m, in \u001b[0;36mMultithreadedFileSource.__init__\u001b[0;34m(self, file_path, **options)\u001b[0m\n\u001b[1;32m    247\u001b[0m \u001b[38;5;28mself\u001b[39m\u001b[38;5;241m.\u001b[39m_num_requested_bytes \u001b[38;5;241m=\u001b[39m \u001b[38;5;241m0\u001b[39m\n\u001b[1;32m    249\u001b[0m \u001b[38;5;28mself\u001b[39m\u001b[38;5;241m.\u001b[39m_file_path \u001b[38;5;241m=\u001b[39m file_path\n\u001b[0;32m--> 250\u001b[0m \u001b[38;5;28;43mself\u001b[39;49m\u001b[38;5;241;43m.\u001b[39;49m\u001b[43m_open\u001b[49m\u001b[43m(\u001b[49m\u001b[43m)\u001b[49m\n",
      "File \u001b[0;32m~/opt/anaconda3/envs/tf/lib/python3.10/site-packages/uproot/source/file.py:254\u001b[0m, in \u001b[0;36mMultithreadedFileSource._open\u001b[0;34m(self)\u001b[0m\n\u001b[1;32m    252\u001b[0m \u001b[38;5;28;01mdef\u001b[39;00m \u001b[38;5;21m_open\u001b[39m(\u001b[38;5;28mself\u001b[39m):\n\u001b[1;32m    253\u001b[0m     \u001b[38;5;28mself\u001b[39m\u001b[38;5;241m.\u001b[39m_executor \u001b[38;5;241m=\u001b[39m uproot\u001b[38;5;241m.\u001b[39msource\u001b[38;5;241m.\u001b[39mfutures\u001b[38;5;241m.\u001b[39mResourceThreadPoolExecutor(\n\u001b[0;32m--> 254\u001b[0m         [FileResource(\u001b[38;5;28mself\u001b[39m\u001b[38;5;241m.\u001b[39m_file_path) \u001b[38;5;28;01mfor\u001b[39;00m x \u001b[38;5;129;01min\u001b[39;00m \u001b[38;5;28mrange\u001b[39m(\u001b[38;5;28mself\u001b[39m\u001b[38;5;241m.\u001b[39m_num_workers)]\n\u001b[1;32m    255\u001b[0m     )\n\u001b[1;32m    256\u001b[0m     \u001b[38;5;28mself\u001b[39m\u001b[38;5;241m.\u001b[39m_num_bytes \u001b[38;5;241m=\u001b[39m os\u001b[38;5;241m.\u001b[39mpath\u001b[38;5;241m.\u001b[39mgetsize(\u001b[38;5;28mself\u001b[39m\u001b[38;5;241m.\u001b[39m_file_path)\n",
      "File \u001b[0;32m~/opt/anaconda3/envs/tf/lib/python3.10/site-packages/uproot/source/file.py:254\u001b[0m, in \u001b[0;36m<listcomp>\u001b[0;34m(.0)\u001b[0m\n\u001b[1;32m    252\u001b[0m \u001b[38;5;28;01mdef\u001b[39;00m \u001b[38;5;21m_open\u001b[39m(\u001b[38;5;28mself\u001b[39m):\n\u001b[1;32m    253\u001b[0m     \u001b[38;5;28mself\u001b[39m\u001b[38;5;241m.\u001b[39m_executor \u001b[38;5;241m=\u001b[39m uproot\u001b[38;5;241m.\u001b[39msource\u001b[38;5;241m.\u001b[39mfutures\u001b[38;5;241m.\u001b[39mResourceThreadPoolExecutor(\n\u001b[0;32m--> 254\u001b[0m         [\u001b[43mFileResource\u001b[49m\u001b[43m(\u001b[49m\u001b[38;5;28;43mself\u001b[39;49m\u001b[38;5;241;43m.\u001b[39;49m\u001b[43m_file_path\u001b[49m\u001b[43m)\u001b[49m \u001b[38;5;28;01mfor\u001b[39;00m x \u001b[38;5;129;01min\u001b[39;00m \u001b[38;5;28mrange\u001b[39m(\u001b[38;5;28mself\u001b[39m\u001b[38;5;241m.\u001b[39m_num_workers)]\n\u001b[1;32m    255\u001b[0m     )\n\u001b[1;32m    256\u001b[0m     \u001b[38;5;28mself\u001b[39m\u001b[38;5;241m.\u001b[39m_num_bytes \u001b[38;5;241m=\u001b[39m os\u001b[38;5;241m.\u001b[39mpath\u001b[38;5;241m.\u001b[39mgetsize(\u001b[38;5;28mself\u001b[39m\u001b[38;5;241m.\u001b[39m_file_path)\n",
      "File \u001b[0;32m~/opt/anaconda3/envs/tf/lib/python3.10/site-packages/uproot/source/file.py:38\u001b[0m, in \u001b[0;36mFileResource.__init__\u001b[0;34m(self, file_path)\u001b[0m\n\u001b[1;32m     36\u001b[0m     \u001b[38;5;28mself\u001b[39m\u001b[38;5;241m.\u001b[39m_file \u001b[38;5;241m=\u001b[39m \u001b[38;5;28mopen\u001b[39m(\u001b[38;5;28mself\u001b[39m\u001b[38;5;241m.\u001b[39m_file_path, \u001b[38;5;124m\"\u001b[39m\u001b[38;5;124mrb\u001b[39m\u001b[38;5;124m\"\u001b[39m)\n\u001b[1;32m     37\u001b[0m \u001b[38;5;28;01mexcept\u001b[39;00m uproot\u001b[38;5;241m.\u001b[39m_util\u001b[38;5;241m.\u001b[39m_FileNotFoundError \u001b[38;5;28;01mas\u001b[39;00m err:\n\u001b[0;32m---> 38\u001b[0m     \u001b[38;5;28;01mraise\u001b[39;00m uproot\u001b[38;5;241m.\u001b[39m_util\u001b[38;5;241m.\u001b[39m_file_not_found(file_path) \u001b[38;5;28;01mfrom\u001b[39;00m \u001b[38;5;21;01merr\u001b[39;00m\n",
      "\u001b[0;31mFileNotFoundError\u001b[0m: file not found\n\n    'nts.brownd.KKSeed.KKSM.001210_00000005.root'\n\nFiles may be specified as:\n   * str/bytes: relative or absolute filesystem path or URL, without any colons\n         other than Windows drive letter or URL schema.\n         Examples: \"rel/file.root\", \"C:\\abs\\file.root\", \"http://where/what.root\"\n   * str/bytes: same with an object-within-ROOT path, separated by a colon.\n         Example: \"rel/file.root:tdirectory/ttree\"\n   * pathlib.Path: always interpreted as a filesystem path or URL only (no\n         object-within-ROOT path), regardless of whether there are any colons.\n         Examples: Path(\"rel:/file.root\"), Path(\"/abs/path:stuff.root\")\n\nFunctions that accept many files (uproot.iterate, etc.) also allow:\n   * glob syntax in str/bytes and pathlib.Path.\n         Examples: Path(\"rel/*.root\"), \"/abs/*.root:tdirectory/ttree\"\n   * dict: keys are filesystem paths, values are objects-within-ROOT paths.\n         Example: {\"/data_v1/*.root\": \"ttree_v1\", \"/data_v2/*.root\": \"ttree_v2\"}\n   * already-open TTree objects.\n   * iterables of the above.\n"
     ]
    }
   ],
   "source": [
    "import os\n",
    "input_dataset = np.empty\n",
    "temp = np.empty\n",
    "mcrel = []\n",
    "n_events = 100000\n",
    "\n",
    "for filename in os.listdir(\"39501509\"):\n",
    "    with uproot.open(\"39501509/\" + filename) as file:\n",
    "        trkana = file[\"TAKK\"][\"trkana\"].arrays(filter_name=\"/de|detsh|detshmc|demc/i\")\n",
    "        trkana = trkana[(trkana['de.goodfit']==1)&(trkana['de.status']>0)&(trkana['demc.proc']==167)]\n",
    "        \n",
    "    print(\"Processing: \" + filename)    \n",
    "    udt = np.add(ak.concatenate(trkana['detsh.udt'][:n_events]).to_numpy(), ak.concatenate(trkana['detsh.udt'][:n_events]).to_numpy())  \n",
    "    udoca = ak.concatenate(trkana['detsh.udoca'][:n_events]).to_numpy()\n",
    "    tottdrift = ak.concatenate(trkana['detsh.tottdrift'][:n_events]).to_numpy()\n",
    "    rdrift = ak.concatenate(trkana['detsh.rdrift'][:n_events]).to_numpy()\n",
    "    edep = ak.concatenate(trkana['detsh.edep'][:n_events]).to_numpy()\n",
    "    udocavar = ak.concatenate(trkana['detsh.udocavar'][:n_events]).to_numpy()\n",
    "    \n",
    "    temp = np.vstack((udt,udoca,tottdrift,rdrift,edep, udocavar)).T\n",
    "    if input_dataset is np.empty:\n",
    "        input_dataset = temp\n",
    "    else:\n",
    "        input_dataset = np.concatenate((input_dataset, temp))\n",
    "        \n",
    "    for i, this_dt in enumerate(trkana['detsh.udt'][:n_events]):\n",
    "        mcrel.extend(trkana['detshmc.rel._rel'][i][:len(this_dt)])"
   ]
  },
  {
   "cell_type": "markdown",
   "id": "443eeaf1",
   "metadata": {},
   "source": [
    "Label signal and background and make separate V-stacks for each"
   ]
  },
  {
   "cell_type": "code",
   "execution_count": null,
   "id": "0bb2b4a8",
   "metadata": {},
   "outputs": [],
   "source": [
    "# mcrel = []\n",
    "\n",
    "# for i, this_dt in enumerate(trkana['detsh.udt'][:n_events]):\n",
    "#     mcrel.extend(trkana['detshmc.rel._rel'][i][:len(this_dt)]) ## NEED TO PUT THIS INTO THE FOR EACH LOOP    \n",
    "\n",
    "mcrel = np.array(mcrel)\n",
    "true_ce = mcrel==0\n",
    "    \n",
    "signal = true_ce\n",
    "bkg = mcrel ==-1"
   ]
  },
  {
   "cell_type": "code",
   "execution_count": null,
   "id": "463b32b3",
   "metadata": {},
   "outputs": [],
   "source": [
    "min_len = min(len(input_dataset[signal]), len(input_dataset[bkg]))\n",
    "signal_dataset = input_dataset[signal][:min_len]\n",
    "print(signal_dataset)\n",
    "print(signal_dataset.shape[0])\n",
    "print(signal_dataset.shape[1])\n",
    "\n",
    "bkg_dataset = input_dataset[bkg][:min_len]"
   ]
  },
  {
   "cell_type": "markdown",
   "id": "839aea78",
   "metadata": {},
   "source": [
    "Fill lists with variable data, then graph "
   ]
  },
  {
   "cell_type": "code",
   "execution_count": null,
   "id": "fa3415f8",
   "metadata": {},
   "outputs": [],
   "source": [
    "udt_sig = []\n",
    "udoca_sig = []\n",
    "tottdrift_sig = []\n",
    "rdrift_sig = []\n",
    "edep_sig = []\n",
    "udocavar_sig = []\n",
    "wdist_sig = []\n",
    "uupos_sig = []\n",
    "rho_sig = []\n",
    "\n",
    "#loop through first column to where?\n",
    "for i in range(signal_dataset.shape[0]):\n",
    "    udt_sig.append(signal_dataset[i][0])\n",
    "    \n",
    "for i in range(signal_dataset.shape[0]):\n",
    "    udoca_sig.append(signal_dataset[i][1])\n",
    "    \n",
    "for i in range(signal_dataset.shape[0]):\n",
    "    tottdrift_sig.append(signal_dataset[i][2])\n",
    "    \n",
    "for i in range(signal_dataset.shape[0]):\n",
    "    rdrift_sig.append(signal_dataset[i][3])\n",
    "    \n",
    "for i in range(signal_dataset.shape[0]):\n",
    "    edep_sig.append(signal_dataset[i][4])\n",
    "    \n",
    "for i in range(signal_dataset.shape[0]):\n",
    "    udocavar_sig.append(signal_dataset[i][5])\n",
    "    \n",
    "for i in range(signal_dataset.shape[0]):\n",
    "    wdist_sig.append(signal_dataset[i][6])\n",
    "\n",
    "for i in range(signal_dataset.shape[0]):\n",
    "    uupos_sig.append(signal_dataset[i][7])\n",
    "    \n",
    "for i in range(signal_dataset.shape[0]):\n",
    "    rho_sig.append(signal_dataset[i][8])\n",
    "    \n",
    "udt_back = []\n",
    "udoca_back = []\n",
    "tottdrift_back = []\n",
    "rdrift_back = []\n",
    "edep_back = []\n",
    "udocavar_back = []\n",
    "wdist_back = []\n",
    "uupos_back = []\n",
    "rho_back = []\n",
    "\n",
    "#loop through first column to where?\n",
    "for i in range(bkg_dataset.shape[0]):\n",
    "    udt_back.append(bkg_dataset[i][0])\n",
    "    \n",
    "for i in range(bkg_dataset.shape[0]):\n",
    "    udoca_back.append(bkg_dataset[i][1])\n",
    "    \n",
    "for i in range(bkg_dataset.shape[0]):\n",
    "    tottdrift_back.append(bkg_dataset[i][2])\n",
    "    \n",
    "for i in range(bkg_dataset.shape[0]):\n",
    "    rdrift_back.append(bkg_dataset[i][3])\n",
    "    \n",
    "for i in range(bkg_dataset.shape[0]):\n",
    "    edep_back.append(bkg_dataset[i][4])\n",
    "    \n",
    "for i in range(bkg_dataset.shape[0]):\n",
    "    udocavar_back.append(bkg_dataset[i][5])\n",
    "    \n",
    "for i in range(bkg_dataset.shape[0]):\n",
    "    wdist_back.append(bkg_dataset[i][6])\n",
    "\n",
    "for i in range(bkg_dataset.shape[0]):\n",
    "    uupos_back.append(bkg_dataset[i][7])\n",
    "    \n",
    "for i in range(bkg_dataset.shape[0]):\n",
    "    rho_back.append(bkg_dataset[i][8])\n",
    "\n",
    "plt.hist(udt_sig,label=\"Unbiased Dt Signal\", bins=10, range = [-25,100])\n",
    "plt.hist(udt_back,label=\"Unbiased Dt Background\", histtype='step', bins=10, range = [-25, 100])\n",
    "plt.legend()\n",
    "plt.show"
   ]
  },
  {
   "cell_type": "code",
   "execution_count": null,
   "id": "ca54b00e",
   "metadata": {},
   "outputs": [],
   "source": [
    "plt.hist(udoca_sig,label=\"Unbiased DOCA Signal\", bins=10, range = [-20,20])\n",
    "plt.hist(udoca_back,label=\"Unbiased DOCA Background\", histtype='step', bins = 10, range = [-20,20])\n",
    "plt.legend()\n",
    "plt.show"
   ]
  },
  {
   "cell_type": "code",
   "execution_count": null,
   "id": "70c97f8f",
   "metadata": {},
   "outputs": [],
   "source": [
    "plt.hist(tottdrift_sig,label=\"Time-Over-Threshold Drift Time Signal\", bins = 10)\n",
    "plt.hist(tottdrift_back,label=\"Time-Over-Threshold Drift Time Background\", histtype='step', bins =  10)\n",
    "plt.legend()\n",
    "plt.show"
   ]
  },
  {
   "cell_type": "code",
   "execution_count": null,
   "id": "d02f27b2",
   "metadata": {},
   "outputs": [],
   "source": [
    "plt.hist(rdrift_sig,label=\"Radius Drift Signal\", bins = 9, range = [-0.5,3])\n",
    "plt.hist(rdrift_back,label=\"Radius Drift Background\", histtype='step', bins = 9, range = [-0.5,3])\n",
    "plt.legend()\n",
    "plt.show"
   ]
  },
  {
   "cell_type": "code",
   "execution_count": null,
   "id": "a0827ce5",
   "metadata": {},
   "outputs": [],
   "source": [
    "plt.hist(edep_sig,label=\"Energy Deposition Signal\", bins = 8, range = [-0.001, 0.006])\n",
    "plt.hist(edep_back,label=\"Energy Deposition Background\", histtype='step', bins = 8, range = [-0.001, 0.006])\n",
    "plt.legend()\n",
    "plt.show"
   ]
  },
  {
   "cell_type": "code",
   "execution_count": null,
   "id": "57aeabf9",
   "metadata": {},
   "outputs": [],
   "source": [
    "plt.hist(wdist_sig,label=\"Wire Distance Signal\", range=[-600,600])\n",
    "plt.hist(wdist_back,label=\"Wire Distance Background\", histtype='step', range=[-600,600])\n",
    "plt.legend()\n",
    "plt.show"
   ]
  },
  {
   "cell_type": "code",
   "execution_count": null,
   "id": "ae3a7550",
   "metadata": {},
   "outputs": [],
   "source": [
    "plt.hist(uupos_sig,label=\"Unbiased U Position Signal\", range = [-450, 450])\n",
    "plt.hist(uupos_back,label=\"Unbiased U Position Background\", histtype='step', range = [-450,450])\n",
    "plt.legend()\n",
    "plt.show"
   ]
  },
  {
   "cell_type": "code",
   "execution_count": null,
   "id": "355dd47a",
   "metadata": {},
   "outputs": [],
   "source": [
    "plt.hist(rho_sig,label=\"Rho Signal\")\n",
    "plt.hist(rho_back,label=\"Rho Background\", histtype='step')\n",
    "plt.legend()\n",
    "plt.show"
   ]
  }
 ],
 "metadata": {
  "kernelspec": {
   "display_name": "KKTrain",
   "language": "python",
   "name": "kktrain"
  },
  "language_info": {
   "codemirror_mode": {
    "name": "ipython",
    "version": 3
   },
   "file_extension": ".py",
   "mimetype": "text/x-python",
   "name": "python",
   "nbconvert_exporter": "python",
   "pygments_lexer": "ipython3",
   "version": "3.10.8"
  }
 },
 "nbformat": 4,
 "nbformat_minor": 5
}
